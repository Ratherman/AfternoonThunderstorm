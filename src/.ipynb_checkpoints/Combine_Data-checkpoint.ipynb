{
 "cells": [
  {
   "cell_type": "markdown",
   "metadata": {},
   "source": [
    "# 自定義方法"
   ]
  },
  {
   "cell_type": "code",
   "execution_count": 83,
   "metadata": {},
   "outputs": [],
   "source": [
    "def check_complete(small_list, file_name):\n",
    "    if len(small_list) == 117: return True\n",
    "    elif len(small_list) != 117:\n",
    "        print(len(small_list))\n",
    "        print(f\"[SYSTEM] {file_name} Small List Incomplete Data\")\n",
    "        return False\n",
    "    \n",
    "def decide_label(data,file_name):\n",
    "    #print(list(data)[8:12]) # 8:12 的 total 小於 3\n",
    "    morning_sum = 0.0\n",
    "    for num in list(data[8:12]):\n",
    "        if num == \"T\": num = \"0.1\"\n",
    "        num = float(num)\n",
    "        morning_sum = morning_sum + num\n",
    "\n",
    "    afternoon_sum = 0.0\n",
    "    for num in list(data[12:18]):\n",
    "        if num == \"T\": num = \"0.1\"\n",
    "        num = float(num)\n",
    "        afternoon_sum = afternoon_sum + num\n",
    "\n",
    "    if morning_sum < 2.0 and afternoon_sum > 5.0:\n",
    "        return True\n",
    "    else:\n",
    "        return False\n",
    "    "
   ]
  },
  {
   "cell_type": "markdown",
   "metadata": {},
   "source": [
    "# 將 sounding data 的資料給列出\n",
    "\n",
    "## 1. 目前確認 sounding data 是有缺的\n",
    "## 2. 所以會以 sounding data list 作為 loop 的對象"
   ]
  },
  {
   "cell_type": "code",
   "execution_count": 84,
   "metadata": {},
   "outputs": [
    {
     "name": "stdout",
     "output_type": "stream",
     "text": [
      "[SYSTEM] Expected # of Days 171\n",
      "[SYSTEM] Actual # of Days 171\n",
      "[SYSTEM] Expected # of Days 156\n",
      "[SYSTEM] Actual # of Days 327\n",
      "[SYSTEM] Expected # of Days 150\n",
      "[SYSTEM] Actual # of Days 477\n",
      "[SYSTEM] Expected # of Days 179\n",
      "[SYSTEM] Actual # of Days 656\n"
     ]
    }
   ],
   "source": [
    "import os\n",
    "import pandas as pd\n",
    "\n",
    "data_list = []\n",
    "for YEAR in [2015,2016,2017,2018]:\n",
    "    PATH_TO_STATION_DATA = f\"../third_party/CWB-Observation-Crawler/data/466880/{YEAR}/\"\n",
    "    PATH_TO_SOUNDING_DATA= f\"../third_party/UWYO-SoundingData-Crawler/data/{YEAR}/\"\n",
    "\n",
    "    print(f\"[SYSTEM] Expected # of Days {len(os.listdir(PATH_TO_SOUNDING_DATA))}\")\n",
    "\n",
    "    for file_name in os.listdir(PATH_TO_SOUNDING_DATA):\n",
    "        small_list = []\n",
    "        ## Station Data 的部分(40)\n",
    "        station_data = pd.read_csv(PATH_TO_STATION_DATA+file_name)\n",
    "        target_station_data = station_data[8:12][{\"測站氣壓\",\"氣溫\",\"相對溼度\",\"露點溫度\",\"風向\",\"風速\",\"最大陣風\",\"最大陣風風向\",\"日照時數\",\"全天空日射量\"}]\n",
    "        for key in [\"測站氣壓\",\"氣溫\",\"相對溼度\",\"露點溫度\",\"風向\",\"風速\",\"最大陣風\",\"最大陣風風向\",\"日照時數\",\"全天空日射量\"]:\n",
    "            for value in target_station_data[f\"{key}\"]: \n",
    "                small_list.append(value)\n",
    "        \n",
    "        ## 在這邊決定 station data 是不是有午後雷陣雨\n",
    "        label = decide_label(station_data[\"降水量\"], file_name)\n",
    "        \n",
    "        ## Sounding Data 的部分(77)\n",
    "        sounding_data = pd.read_csv(PATH_TO_SOUNDING_DATA+file_name)\n",
    "        target_sounding_data = sounding_data[0:][{\"0\",\"1\",\"2\",\"3\",\"4\",\"5\",\"6\",\"7\",\"8\",\"9\",\"10\"}]\n",
    "        for key in [\"0\",\"1\",\"2\",\"3\",\"4\",\"5\",\"6\",\"7\",\"8\",\"9\",\"10\"]:\n",
    "            for value in target_sounding_data[f\"{key}\"]: \n",
    "                small_list.append(value)\n",
    "\n",
    "        if check_complete(small_list, file_name):\n",
    "            small_list.append(file_name)\n",
    "            small_list.append(label)\n",
    "            data_list.append(small_list)\n",
    "        else: \n",
    "            continue\n",
    "\n",
    "    print(f\"[SYSTEM] Actual # of Days {len(data_list)}\") "
   ]
  },
  {
   "cell_type": "code",
   "execution_count": 87,
   "metadata": {},
   "outputs": [],
   "source": [
    "all_data = pd.DataFrame(data_list)\n",
    "all_data.to_csv(\"data/all_data_with_label.csv\")"
   ]
  },
  {
   "cell_type": "markdown",
   "metadata": {},
   "source": [
    "# 利用 YYYY-MM-DD.csv 來取得 station data 的雨量資料"
   ]
  },
  {
   "cell_type": "code",
   "execution_count": 82,
   "metadata": {},
   "outputs": [
    {
     "name": "stdout",
     "output_type": "stream",
     "text": [
      "[False, False, True, False, False, False, False, False, False, False, False, False, False, False, False, False, False, False, True, False, False, False, False, False, False, False, False, False, False, False, False, False, False, True, False, False, False, False, False, False, False, True, False, False, False, False, False, False, True, False, True, True, False, False, False, False, False, False, False, False, False, False, False, True, False, False, False, False, False, False, False, False, False, False, False, False, False, False, False, False, True, False, False, False, True, False, True, False, False, False, False, True, False, False, False, False, False, True, False, False, True, False, False, False, False, False, False, False, False, False, True, False, False, False, False, False, False, False, False, False, False, False, False, False, False, False, False, False, False, False, False, False, False, False, False, False, False, False, False, False, False, False, False, False, False, False, False, False, False, False, False, False, False, False, False, False, False, False, False, False, False, False, False, False, False, False, False, False, False, False, False, False, False, False, False, False, False, False, False, False, False, False, False, False, False, False, False, False, False, False, False, False, False, False, False, False, False, False, True, False, False, True, False, False, True, False, False, False, False, False, False, False, True, False, False, False, False, False, False, False, False, False, True, False, False, False, True, True, False, False, False, False, False, False, False, False, False, False, False, False, True, True, True, False, False, False, False, False, False, False, False, False, False, False, False, False, False, True, False, False, True, False, False, False, False, False, False, True, False, False, False, False, False, False, False, False, False, False, False, False, True, False, False, True, False, False, False, False, False, False, False, False, False, False, False, False, False, False, False, False, False, False, False, False, False, False, False, False, False, False, False, False, False, False, False, False, False, True, False, False, False, False, False, False, False, False, False, False, True, False, False, False, False, False, False, False, False, True, True, False, False, True, False, False, False, False, False, False, False, False, False, False, False, False, True, True, True, False, False, False, False, False, True, False, True, False, False, True, False, False, False, False, False, False, False, False, False, False, False, True, False, True, True, False, False, False, False, True, False, False, False, False, False, False, False, False, False, False, False, False, False, False, False, False, False, False, False, False, False, False, False, False, False, False, False, False, False, False, False, False, False, False, False, False, False, False, False, False, False, False, False, False, False, False, False, False, False, False, False, False, False, False, False, False, False, False, False, False, False, False, False, False, False, False, False, False, False, False, True, False, False, False, False, False, False, False, False, False, False, False, False, False, False, False, False, False, False, False, False, False, False, False, False, False, False, False, False, False, False, False, False, False, False, False, False, False, False, False, False, False, False, False, False, False, False, False, False, False, False, False, False, False, True, False, False, False, False, False, False, False, False, False, False, False, False, False, False, False, False, False, False, False, False, False, False, False, False, False, False, False, False, False, False, True, False, False, False, False, False, False, False, False, False, False, False, False, False, True, False, True, True, False, False, False, False, False, False, False, False, False, True, False, False, False, False, False, False, False, False, False, False, False, True, False, True, False, False, False, False, False, True, True, False, True, True, True, False, False, False, False, False, False, False, True, False, False, False, False, False, False, False, False, False, False, False, False, False, False, False, True, False, False, False, False, False, False, False, False, False, False, False, False, False, False, False, False, False, False, False, False, False, False, False, False, False, False, False, False, False, False, False, False, False, False, False, False]\n",
      "656\n"
     ]
    }
   ],
   "source": [
    "label = []\n",
    "for file_name in all_data[117]:\n",
    "    if file_name[0:4]==\"2015\":\n",
    "        PATH_TO_STATION_DATA = f\"../third_party/CWB-Observation-Crawler/data/466880/2015/\"\n",
    "        data_holder = pd.read_csv(PATH_TO_STATION_DATA+file_name)\n",
    "        label.append(decide_label(data_holder[\"降水量\"],file_name))        \n",
    "        \n",
    "    elif file_name[0:4]==\"2016\":\n",
    "        PATH_TO_STATION_DATA = f\"../third_party/CWB-Observation-Crawler/data/466880/2016/\"\n",
    "        data_holder = pd.read_csv(PATH_TO_STATION_DATA+file_name)\n",
    "        label.append(decide_label(data_holder[\"降水量\"],file_name))        \n",
    "\n",
    "    elif file_name[0:4]==\"2017\":\n",
    "        PATH_TO_STATION_DATA = f\"../third_party/CWB-Observation-Crawler/data/466880/2017/\"\n",
    "        data_holder = pd.read_csv(PATH_TO_STATION_DATA+file_name)\n",
    "        label.append(decide_label(data_holder[\"降水量\"],file_name))        \n",
    "\n",
    "    elif file_name[0:4]==\"2018\":\n",
    "        PATH_TO_STATION_DATA = f\"../third_party/CWB-Observation-Crawler/data/466880/2018/\"\n",
    "        data_holder = pd.read_csv(PATH_TO_STATION_DATA+file_name)\n",
    "        label.append(decide_label(data_holder[\"降水量\"],file_name))        \n",
    "\n",
    "print(label)\n",
    "print(len(label))"
   ]
  }
 ],
 "metadata": {
  "kernelspec": {
   "display_name": "Python 3",
   "language": "python",
   "name": "python3"
  },
  "language_info": {
   "codemirror_mode": {
    "name": "ipython",
    "version": 3
   },
   "file_extension": ".py",
   "mimetype": "text/x-python",
   "name": "python",
   "nbconvert_exporter": "python",
   "pygments_lexer": "ipython3",
   "version": "3.7.4"
  }
 },
 "nbformat": 4,
 "nbformat_minor": 2
}
